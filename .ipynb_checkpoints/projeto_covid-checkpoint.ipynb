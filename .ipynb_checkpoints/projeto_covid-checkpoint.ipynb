{
 "cells": [
  {
   "cell_type": "markdown",
   "id": "081e3a65-cf06-4725-9882-0f6e4ca75412",
   "metadata": {},
   "source": [
    "# Projeto Covid19\n",
    "## seguindo digital inovation one"
   ]
  },
  {
   "cell_type": "code",
   "execution_count": null,
   "id": "b19ce619-ee8b-4b3e-8dc7-230a52f662c7",
   "metadata": {},
   "outputs": [],
   "source": [
    "import pandas as pd\n",
    "import numpy as np\n",
    "from datetime import datetime\n",
    "import plotly.express as px\n",
    "import plotly.graph_objects as go"
   ]
  },
  {
   "cell_type": "code",
   "execution_count": null,
   "id": "64ba062f-d5e4-4fed-9ff0-1dcb1e9489c0",
   "metadata": {},
   "outputs": [],
   "source": [
    "url = 'https://github.com/neylsoncrepalde/projeto_eda_covid/blob/master/covid_19_data.csv?raw=true'"
   ]
  },
  {
   "cell_type": "code",
   "execution_count": null,
   "id": "18c194e0-0acd-46a3-bda1-60ab3e75b7c3",
   "metadata": {},
   "outputs": [],
   "source": [
    "df = pd.read_csv(url, parse_dates=['ObservationDate', 'Last Update'])\n",
    "df"
   ]
  },
  {
   "cell_type": "code",
   "execution_count": null,
   "id": "f777af8b-92d8-4777-8a7d-5745e0a9cc8b",
   "metadata": {},
   "outputs": [],
   "source": [
    "import re\n",
    "\n",
    "def corrigi_colunas(col_name):\n",
    "    return re.sub(r\"[/| ]\", \"\", col_name.lower())"
   ]
  },
  {
   "cell_type": "code",
   "execution_count": null,
   "id": "d53da3e4-178e-4631-8d7c-825e114fe307",
   "metadata": {},
   "outputs": [],
   "source": [
    "df.columns = [corrigi_colunas(col) for col in df.columns]\n",
    "df"
   ]
  },
  {
   "cell_type": "code",
   "execution_count": null,
   "id": "119059d7-e53a-4cda-b4a1-332963987827",
   "metadata": {},
   "outputs": [],
   "source": [
    "df_brasil = df.loc[df.countryregion =='Brazil'].reset_index()\n",
    "df_brasil"
   ]
  },
  {
   "cell_type": "code",
   "execution_count": null,
   "id": "e6e5e5d2-b48b-4c0c-956e-985f42cbdd14",
   "metadata": {},
   "outputs": [],
   "source": [
    "px.line(df_brasil, 'observationdate','confirmed', title='casos confirmados no brasil')"
   ]
  },
  {
   "cell_type": "markdown",
   "id": "f3551480-63ad-48c6-ba8b-7540a3675be4",
   "metadata": {},
   "source": [
    "# novos casos por dia"
   ]
  },
  {
   "cell_type": "code",
   "execution_count": null,
   "id": "8598ff48-5456-42a3-abc6-507dec037966",
   "metadata": {},
   "outputs": [],
   "source": [
    "df_brasil['novoscasos'] = list(map(\n",
    "    lambda x: 0 if (x==0) else df_brasil['confirmed'].iloc[x] - df_brasil['confirmed'].iloc[x-1],\n",
    "    np.arange(df_brasil.shape[0])\n",
    "))"
   ]
  },
  {
   "cell_type": "code",
   "execution_count": null,
   "id": "a61428e2-d6df-45ec-a129-b1b52ef02d1e",
   "metadata": {},
   "outputs": [],
   "source": [
    "px.line(df_brasil, x='observationdate', y= 'novoscasos', title='novos casos por dia)"
   ]
  },
  {
   "cell_type": "markdown",
   "id": "bcf3861e-ccb9-4ceb-b41d-16aedcc57aa3",
   "metadata": {},
   "source": [
    "# Mortes"
   ]
  },
  {
   "cell_type": "code",
   "execution_count": null,
   "id": "f791b81c-c298-4835-bfb9-5960834a2bce",
   "metadata": {},
   "outputs": [],
   "source": [
    "fig = go.Figure()\n",
    "fig.add_trace(\n",
    "    go.Scatter(x=df_brasil.observationdate, y=df_brasil.deaths, name = 'Mortes',\n",
    "              mode='lines+markers', line={'color':'red'})\n",
    ")\n",
    "\n",
    "fig.update_layout(title=\"Mortes por Covid 19  no brasil\")\n",
    "\n",
    "fig.show()"
   ]
  },
  {
   "cell_type": "markdown",
   "id": "4a332b41-8fb9-4b90-a37b-d4f8a155feec",
   "metadata": {},
   "source": [
    "# Taxa de Crescimento"
   ]
  },
  {
   "cell_type": "code",
   "execution_count": null,
   "id": "432787c4-264d-4c34-a173-b9d654cead3b",
   "metadata": {},
   "outputs": [],
   "source": [
    "def taxa_crescimento(data, variable, data_inicio=None, data_fim=None):\n",
    "    if data_inicio == None:\n",
    "        data_inicio = data.observationdate.loc[data[variable]>0].min()\n",
    "    else:\n",
    "        data_inicio = pd.to_datetime(data_inicio)\n",
    "    \n",
    "    if data_fim==None:\n",
    "        data_fim = data.observationdate.iloc[-1]\n",
    "    else:\n",
    "        data_fim = pd.to_datetime(data_fim)\n",
    "        \n",
    "    passado =  data.loc[data.observationdate == data_inicio, variable].values[0]\n",
    "    presente = data.loc[data.observationdate == data_fim, variable].values[0]\n",
    "    \n",
    "    n = (data_fim-data_inicio).days\n",
    "    \n",
    "    taxa=(presente/passado)**(1/n) - 1\n",
    "    \n",
    "    return taxa*100\n",
    "    "
   ]
  },
  {
   "cell_type": "code",
   "execution_count": null,
   "id": "c1b93462-aaa4-453d-aacb-3d5905eaebc9",
   "metadata": {},
   "outputs": [],
   "source": [
    "taxa_crescimento(df_brasil, 'confirmed')"
   ]
  },
  {
   "cell_type": "code",
   "execution_count": null,
   "id": "8b6fd602-b56b-4785-96f1-16ebb888c718",
   "metadata": {},
   "outputs": [],
   "source": [
    "def taxa_crescimento_diaria(data, variable, data_inicio = None):\n",
    "    if data_inicio==None:\n",
    "        data_inicio = data.observationdate.loc[data[variable] > 0].min()\n",
    "    else:\n",
    "        data_inicio = pd.to_datetime(data_inicio)\n",
    "    \n",
    "    data_fim= data.observationdate.max()\n",
    "    \n",
    "    n = (data_fim-data_inicio).days\n",
    "    \n",
    "    taxas = list(map(\n",
    "        lambda x:  (data[variable].iloc[x] - data[variable].iloc[x-1]) / data[variable].iloc[x-1] ,\n",
    "        range(1, n+1)\n",
    "    ))\n",
    "    \n",
    "    return np.array(taxas) * 100"
   ]
  },
  {
   "cell_type": "code",
   "execution_count": null,
   "id": "4edfb75e-731f-4f49-a687-d0c3fbec0330",
   "metadata": {},
   "outputs": [],
   "source": [
    "tx_dia = taxa_crescimento_diaria(df_brasil,'confirmed')"
   ]
  },
  {
   "cell_type": "code",
   "execution_count": null,
   "id": "baac0534-c793-4540-9a89-99b4061778ed",
   "metadata": {},
   "outputs": [],
   "source": [
    "tx_dia"
   ]
  },
  {
   "cell_type": "code",
   "execution_count": null,
   "id": "87c5f395-ee99-41a3-bfec-aa9fd719a29f",
   "metadata": {},
   "outputs": [],
   "source": [
    "df_brasil['confirmed']"
   ]
  },
  {
   "cell_type": "code",
   "execution_count": null,
   "id": "dd86822b-7fdd-4f3e-bb91-30dc9aabf3ef",
   "metadata": {},
   "outputs": [],
   "source": [
    "df_brasil = df_brasil.loc[df_brasil['confirmed'] !=0]"
   ]
  },
  {
   "cell_type": "code",
   "execution_count": null,
   "id": "e810cb39-1bf5-4407-833e-8a46969f4580",
   "metadata": {},
   "outputs": [],
   "source": [
    "primeiro_dia = df_brasil.observationdate.loc[df_brasil.confirmed >0].min()\n",
    "px.line(x=pd.date_range(primeiro_dia, df_brasil.observationdate.max())[1:],\n",
    "       y=tx_dia, title=\"taxa de crescimendo diario no Brasil\")"
   ]
  },
  {
   "cell_type": "markdown",
   "id": "0be42c54-66c9-4b11-af4e-c90b9e677a92",
   "metadata": {},
   "source": [
    "# predições "
   ]
  },
  {
   "cell_type": "code",
   "execution_count": null,
   "id": "7a61acbc-fc45-46cd-8f97-e8aa7dbbc886",
   "metadata": {},
   "outputs": [],
   "source": [
    "from statsmodels.tsa.seasonal import seasonal_decompose\n",
    "import matplotlib.pyplot as plt\n"
   ]
  },
  {
   "cell_type": "code",
   "execution_count": null,
   "id": "f0434922-e959-41a0-b969-148627db0b64",
   "metadata": {},
   "outputs": [],
   "source": [
    "confirmados = df_brasil.confirmed\n",
    "confirmados.index =df_brasil.observationdate\n",
    "confirmados"
   ]
  },
  {
   "cell_type": "code",
   "execution_count": null,
   "id": "8a71a529-48e0-41cd-a6a6-a6d07ed6e717",
   "metadata": {},
   "outputs": [],
   "source": [
    "res= seasonal_decompose(confirmados)\n",
    "dig,(ax1, ax2, ax3, ax4 ) = plt.subplots(4,1,figsize=(10,8))\n",
    "\n",
    "ax1.plot(res.observed)\n",
    "ax2.plot(res.trend)\n",
    "ax3.plot(res.seasonal)\n",
    "ax4.plot(confirmados.index, res.resid)\n",
    "ax4.axhline(0,linestyle='dashed', c='black')\n",
    "plt.show()"
   ]
  },
  {
   "cell_type": "markdown",
   "id": "6bed82e1-e1ef-487f-a781-9be145931a16",
   "metadata": {},
   "source": [
    "# Arima"
   ]
  },
  {
   "cell_type": "code",
   "execution_count": null,
   "id": "2fde2b80-40a5-44db-b8bf-d52a4b53772c",
   "metadata": {},
   "outputs": [],
   "source": [
    "!pip install pmdarima"
   ]
  },
  {
   "cell_type": "code",
   "execution_count": null,
   "id": "e027cacb-ab20-422f-999f-19b49fdf65a0",
   "metadata": {},
   "outputs": [],
   "source": [
    "from pmdarima.arima import auto_arima\n",
    "\n",
    "modelo = auto_arima(confirmados)"
   ]
  },
  {
   "cell_type": "code",
   "execution_count": null,
   "id": "a9c85a24-11ab-4fb2-baf3-3bda0ba2c3d2",
   "metadata": {},
   "outputs": [],
   "source": [
    "fig = go.Figure(go.Scatter(\n",
    "    x=confirmados.index, y=confirmados, name=\"observados\"\n",
    "))\n",
    "\n",
    "fig.add_trace(go.Scatter(\n",
    "    x=confirmados.index, y=modelo.predict_in_sample(), name=\"preditos\"\n",
    "))\n",
    "\n",
    "fig.add_trace(go.Scatter(\n",
    "    x=pd.date_range('2020-05-20','2020-06-20'), y= modelo.predict(31), name ='forecast'\n",
    "))\n",
    "\n",
    "fig.update_layout(title = \"previsão de casos para os proximos 30 dias\")\n",
    "fig.show()"
   ]
  },
  {
   "cell_type": "markdown",
   "id": "55fc25a3-216f-4c65-9bfc-996e99b9da38",
   "metadata": {},
   "source": [
    "# Modelo de crescimento"
   ]
  },
  {
   "cell_type": "code",
   "execution_count": null,
   "id": "e6d411b2-2032-4e47-8f77-f2d8c44db9b6",
   "metadata": {},
   "outputs": [],
   "source": [
    "!conda install -c conda-forge fbprophet -y"
   ]
  },
  {
   "cell_type": "code",
   "execution_count": null,
   "id": "9522af3a-edae-4220-bde6-62de1dc09fb0",
   "metadata": {},
   "outputs": [],
   "source": [
    "from fbprophet import Prophet"
   ]
  },
  {
   "cell_type": "code",
   "execution_count": null,
   "id": "3c31954e-b0c7-4839-a4a6-684fb1cad8d0",
   "metadata": {},
   "outputs": [],
   "source": [
    "train = confirmados.reset_index()[:-5]\n",
    "test = confirmados.reset_index()[-5:]\n",
    "\n",
    "train.rename(columns = {'observationdate':'ds', 'confirmed':'y',inplace = True})\n",
    "test.rename(columns = {'observationdate':'ds', 'confirmed':'y',inplace = True})\n",
    "\n",
    "profeta = Prophet(growth='logistic', changepoints=['2020-03-21','2020-03-30','2020-04-25','2020-05-03','2020-05-10'])\n",
    "\n",
    "\n",
    "\n",
    "pop = 21146356\n",
    "train['cap'] = pop\n",
    "\n",
    "profeta.fit(train)\n",
    "\n",
    "future_dates =profeta.make_future_dataframe(peirods =200 )\n",
    "future_dates['cap'] =pop\n",
    "forecast = profeta.predict(future_dates)"
   ]
  },
  {
   "cell_type": "code",
   "execution_count": 115,
   "id": "679a95d7-c859-4674-9b7b-f24833b7493e",
   "metadata": {},
   "outputs": [
    {
     "name": "stdout",
     "output_type": "stream",
     "text": [
      "Requirement already satisfied: pystan in c:\\users\\juan\\anaconda3\\lib\\site-packages (2.19.1.1)\n",
      "Requirement already satisfied: Cython!=0.25.1,>=0.22 in c:\\users\\juan\\anaconda3\\lib\\site-packages (from pystan) (0.29.32)\n",
      "Requirement already satisfied: numpy>=1.7 in c:\\users\\juan\\anaconda3\\lib\\site-packages (from pystan) (1.21.5)\n"
     ]
    }
   ],
   "source": [
    "!pip install pystan"
   ]
  },
  {
   "cell_type": "code",
   "execution_count": null,
   "id": "8f5b3da3-9f4d-4f6d-9ddc-247d769f5d78",
   "metadata": {},
   "outputs": [],
   "source": [
    "fig = go.Figure()\n",
    "\n",
    "fig.add_trace(go.Scatter(x= forecast.ds, y=forecast.yhat,name=\"predição\"))\n",
    "fig.add_trace(go.Scatter(x= train.ds, y=train.y,name=\"observados - treino\"))\n",
    "fig.update_layout(title = \"predição de casos confirmados no brasil\")\n",
    "dig.show"
   ]
  },
  {
   "cell_type": "code",
   "execution_count": null,
   "id": "5c70761c-baf6-49f6-bc8c-dd2439c32da4",
   "metadata": {},
   "outputs": [],
   "source": []
  }
 ],
 "metadata": {
  "kernelspec": {
   "display_name": "Python 3 (ipykernel)",
   "language": "python",
   "name": "python3"
  },
  "language_info": {
   "codemirror_mode": {
    "name": "ipython",
    "version": 3
   },
   "file_extension": ".py",
   "mimetype": "text/x-python",
   "name": "python",
   "nbconvert_exporter": "python",
   "pygments_lexer": "ipython3",
   "version": "3.9.13"
  }
 },
 "nbformat": 4,
 "nbformat_minor": 5
}
